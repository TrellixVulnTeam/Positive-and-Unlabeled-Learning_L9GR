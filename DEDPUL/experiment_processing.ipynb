{
 "cells": [
  {
   "cell_type": "code",
   "execution_count": 1,
   "metadata": {},
   "outputs": [],
   "source": [
    "import numpy as np\n",
    "import pandas as pd\n",
    "from scipy.stats import norm, laplace\n",
    "import torch.nn as nn\n",
    "import torch.optim as optim\n",
    "import torch\n",
    "import torch.nn.functional as F\n",
    "\n",
    "import matplotlib.pyplot as plt\n",
    "import matplotlib.gridspec as gridspec\n",
    "from matplotlib.lines import Line2D\n",
    "%matplotlib inline\n",
    "from IPython import display\n",
    "\n",
    "import random\n",
    "from sklearn.preprocessing import LabelEncoder\n",
    "from sklearn.model_selection import cross_val_score, train_test_split\n",
    "from scipy.stats import gaussian_kde\n",
    "from sklearn.mixture import GaussianMixture\n",
    "from sklearn.metrics import accuracy_score, log_loss, mean_absolute_error, mean_squared_error, brier_score_loss\n",
    "from sklearn.metrics import precision_score, recall_score, roc_auc_score, balanced_accuracy_score\n",
    "from sklearn.model_selection import StratifiedKFold\n",
    "from sklearn.decomposition import PCA\n",
    "\n",
    "from scipy.stats import linregress, probplot, t, wilcoxon, ttest_rel\n",
    "from scipy.optimize import minimize\n",
    "from statsmodels.stats.multitest import multipletests\n",
    "\n",
    "from algorithms import *\n",
    "from utils import *\n",
    "from KMPE import *\n",
    "from NN_functions import *\n",
    "\n",
    "from torchvision.datasets import MNIST\n",
    "\n",
    "from tqdm import tqdm_notebook as tqdm\n",
    "# from tqdm import tqdm as tqdm\n",
    "\n",
    "import warnings\n",
    "warnings.filterwarnings('ignore')"
   ]
  },
  {
   "cell_type": "code",
   "execution_count": 2,
   "metadata": {},
   "outputs": [],
   "source": [
    "def normalize_by_max(x, y):\n",
    "    return (x - y) / np.max([x, y], axis=0)\n",
    "\n",
    "def wilcoxon_n(x, y, **kwargs):\n",
    "    return wilcoxon(normalize_by_max(x, y), **kwargs)"
   ]
  },
  {
   "cell_type": "code",
   "execution_count": 33,
   "metadata": {},
   "outputs": [],
   "source": [
    "res = pd.read_csv('alpha_synth_raw.csv', sep=';', decimal=',').rename(columns={'distribution': 'dataset'})\n",
    "res = res[(res['dataset'] == 'laplace')]\n",
    "res['alpha_mae'] = (res['cons_alpha'] - res['est_alpha']).abs()\n",
    "res_pivot_alpha = res.pivot_table(index=['dataset', 'ds', 'dmu', 'alpha', 'random_state'],\n",
    "                        columns=['estimator'],\n",
    "                        values='alpha_mae').rename(columns={'KM': 'KM_2'})\n",
    "\n",
    "res = pd.read_csv('alpha_real_raw.csv', sep=';', decimal=',').rename(columns={'distribution': 'dataset'})\n",
    "res = res[(~res['dataset'].isin({'mnist_2', 'mnist_3', 'housing'}))].rename(columns={'mnist_1': 'mnist'})\n",
    "res['alpha_mae'] = (res['real_alpha'] - res['est_alpha']).abs()\n",
    "res_pivot_alpha_uci = res.pivot_table(index=['dataset', 'alpha', 'random_state'],\n",
    "                        columns=['estimator'],\n",
    "                        values='alpha_mae').rename(columns={'KM': 'KM_2'})\n",
    "\n",
    "res = pd.read_csv('mae_synth_raw.csv', sep=';', decimal=',').rename(columns={'distribution': 'dataset'})\n",
    "res = res[(res['dataset'] == 'laplace')]\n",
    "res['alpha_mae'] = (res['cons_alpha'] - res['est_alpha']).abs()\n",
    "res_pivot_mae= res.pivot_table(index=['dataset', 'ds', 'dmu', 'alpha', 'random_state'],\n",
    "                        columns=['estimator'],\n",
    "                        values='mae')\n",
    "res_pivot_mae = res_pivot_mae[['e3_en', 'sigmoid_nnre', 'brier_nnre', 'dedpul', 'random_dedpul']].\\\n",
    "    rename(columns={'e3_en': 'en'})\n",
    "\n",
    "\n",
    "res = pd.read_csv('acc_real_raw.csv', sep=';', decimal=',')\n",
    "res = res[(~res['dataset'].isin({'mnist_2', 'mnist_3', 'housing'}))].rename(columns={'mnist_1': 'mnist'})\n",
    "res['alpha_mae'] = (res['real_alpha'] - res['est_alpha']).abs()\n",
    "res['accuracy'] = 1 - res['accuracy']\n",
    "res_pivot_acc = res.pivot_table(index=['dataset', 'alpha', 'random_state'],\n",
    "                        columns=['estimator'],\n",
    "                        values='accuracy')\n",
    "res_pivot_acc = res_pivot_acc[['e1_en', 'sigmoid_nnre', 'brier_nnre', 'dedpul', 'random_dedpul']].\\\n",
    "    rename(columns={'e1_en': 'en'})"
   ]
  },
  {
   "cell_type": "markdown",
   "metadata": {},
   "source": [
    "### DEDPUL (proposed) outperforms KM (state-of-the-art) and EN on Mixture Proportions Estimation"
   ]
  },
  {
   "cell_type": "code",
   "execution_count": 56,
   "metadata": {},
   "outputs": [
    {
     "name": "stdout",
     "output_type": "stream",
     "text": [
      "errors:\n",
      "dedpul mean: 0.03482985714285716 \n",
      "KM_2 mean: 0.053359428571428606 \n",
      "e1_en mean: 0.1617116285714286 \n",
      "e3_en mean: 0.0534276285714286 \n",
      "em_en mean: 0.0404159142857143\n"
     ]
    }
   ],
   "source": [
    "print('errors:')\n",
    "print('dedpul mean:', res_pivot_alpha['dedpul'].mean(),\n",
    "      '\\nKM_2 mean:', res_pivot_alpha['KM_2'].mean(),\n",
    "      '\\ne1_en mean:', res_pivot_alpha['e1_en'].mean(),\n",
    "      '\\ne3_en mean:', res_pivot_alpha['e3_en'].mean(),\n",
    "      '\\nem_en mean:', res_pivot_alpha['em_en'].mean(),\n",
    "      )"
   ]
  },
  {
   "cell_type": "code",
   "execution_count": 37,
   "metadata": {},
   "outputs": [
    {
     "name": "stdout",
     "output_type": "stream",
     "text": [
      "alpha star\n"
     ]
    },
    {
     "data": {
      "text/plain": [
       "(WilcoxonResult(statistic=18562.0, pvalue=1.4141772573369528e-10),\n",
       " WilcoxonResult(statistic=4265.0, pvalue=4.218922304845355e-44),\n",
       " WilcoxonResult(statistic=18975.0, pvalue=5.779437733435377e-10),\n",
       " WilcoxonResult(statistic=23753.5, pvalue=0.0002390460771696664))"
      ]
     },
     "execution_count": 37,
     "metadata": {},
     "output_type": "execute_result"
    }
   ],
   "source": [
    "print('alpha star')\n",
    "wilcoxon_n(res_pivot_alpha['dedpul'].values, res_pivot_alpha['KM_2'].values), \\\n",
    "wilcoxon_n(res_pivot_alpha['dedpul'].values, res_pivot_alpha['e1_en'].values), \\\n",
    "wilcoxon_n(res_pivot_alpha['dedpul'].values, res_pivot_alpha['e3_en'].values), \\\n",
    "wilcoxon_n(res_pivot_alpha['dedpul'].values, res_pivot_alpha['em_en'].values)"
   ]
  },
  {
   "cell_type": "code",
   "execution_count": null,
   "metadata": {},
   "outputs": [],
   "source": []
  },
  {
   "cell_type": "code",
   "execution_count": 45,
   "metadata": {},
   "outputs": [
    {
     "name": "stdout",
     "output_type": "stream",
     "text": [
      "dedpul mean: 0.03185037777777778 \n",
      "KM_2 mean: 0.098014606741573 \n",
      "e1_en mean: 0.15292895555555533 \n",
      "e3_en mean: 0.20536588888888885 \n",
      "em_en mean: 0.2143315333333334\n"
     ]
    }
   ],
   "source": [
    "print('dedpul mean:', res_pivot_alpha_uci['dedpul'].mean(),\n",
    "      '\\nKM_2 mean:', res_pivot_alpha_uci['KM_2'].mean(),\n",
    "      '\\ne1_en mean:', res_pivot_alpha_uci['e1_en'].mean(),\n",
    "      '\\ne3_en mean:', res_pivot_alpha_uci['e3_en'].mean(),\n",
    "      '\\nem_en mean:', res_pivot_alpha_uci['em_en'].mean(),\n",
    "      )"
   ]
  },
  {
   "cell_type": "code",
   "execution_count": 39,
   "metadata": {},
   "outputs": [
    {
     "name": "stdout",
     "output_type": "stream",
     "text": [
      "alpha\n"
     ]
    },
    {
     "data": {
      "text/plain": [
       "(WilcoxonResult(statistic=16289.0, pvalue=9.583312300482657e-36),\n",
       " WilcoxonResult(statistic=1646.0, pvalue=1.37600392476376e-70),\n",
       " WilcoxonResult(statistic=3013.0, pvalue=5.6142276811016345e-67),\n",
       " WilcoxonResult(statistic=8787.0, pvalue=3.6469734327015804e-52))"
      ]
     },
     "execution_count": 39,
     "metadata": {},
     "output_type": "execute_result"
    }
   ],
   "source": [
    "print('alpha')\n",
    "wilcoxon_n(res_pivot_alpha_uci['dedpul'].values, res_pivot_alpha_uci['KM_2'].values), \\\n",
    "wilcoxon_n(res_pivot_alpha_uci['dedpul'].values, res_pivot_alpha_uci['e1_en'].values), \\\n",
    "wilcoxon_n(res_pivot_alpha_uci['dedpul'].values, res_pivot_alpha_uci['e3_en'].values), \\\n",
    "wilcoxon_n(res_pivot_alpha_uci['dedpul'].values, res_pivot_alpha_uci['em_en'].values)"
   ]
  },
  {
   "cell_type": "markdown",
   "metadata": {},
   "source": [
    "dedpul outperforms EN and KM"
   ]
  },
  {
   "cell_type": "markdown",
   "metadata": {},
   "source": [
    "### DEDPUL (proposed) outperforms EN and nnRE (state-of-the-art) on Positive-Unlabeled Classification"
   ]
  },
  {
   "cell_type": "code",
   "execution_count": 52,
   "metadata": {},
   "outputs": [
    {
     "name": "stdout",
     "output_type": "stream",
     "text": [
      "dedpul mean: 0.03177765714285712 \n",
      "brier_nnre mean: 0.034691800000000016 \n",
      "sigmoid_nnre mean: 0.08339682857142855 \n",
      "en mean: 0.03516128571428574\n"
     ]
    }
   ],
   "source": [
    "print('dedpul mean:', res_pivot_mae['dedpul'].mean(),\n",
    "      '\\nbrier_nnre mean:', res_pivot_mae['brier_nnre'].mean(),\n",
    "      '\\nsigmoid_nnre mean:', res_pivot_mae['sigmoid_nnre'].mean(),\n",
    "      '\\nen mean:', res_pivot_mae['en'].mean()\n",
    "      )"
   ]
  },
  {
   "cell_type": "code",
   "execution_count": 50,
   "metadata": {},
   "outputs": [
    {
     "name": "stdout",
     "output_type": "stream",
     "text": [
      "mae\n"
     ]
    },
    {
     "data": {
      "text/plain": [
       "(WilcoxonResult(statistic=4463.0, pvalue=1.1484220955502075e-43),\n",
       " WilcoxonResult(statistic=21248.0, pvalue=5.841215800473716e-07),\n",
       " WilcoxonResult(statistic=22330.0, pvalue=9.635438400329568e-06))"
      ]
     },
     "execution_count": 50,
     "metadata": {},
     "output_type": "execute_result"
    }
   ],
   "source": [
    "print('mae')\n",
    "wilcoxon_n(res_pivot_mae['dedpul'].values, res_pivot_mae['sigmoid_nnre'].values), \\\n",
    "wilcoxon_n(res_pivot_mae['dedpul'].values, res_pivot_mae['brier_nnre'].values), \\\n",
    "wilcoxon_n(res_pivot_mae['dedpul'].values, res_pivot_mae['en'].values)"
   ]
  },
  {
   "cell_type": "code",
   "execution_count": null,
   "metadata": {},
   "outputs": [],
   "source": []
  },
  {
   "cell_type": "code",
   "execution_count": 53,
   "metadata": {},
   "outputs": [
    {
     "name": "stdout",
     "output_type": "stream",
     "text": [
      "dedpul mean: 0.06325473333333347 \n",
      "brier_nnre mean: 0.06657617777777783 \n",
      "sigmoid_nnre mean: 0.07851133333333332 \n",
      "en mean: 0.0995056222222221\n"
     ]
    }
   ],
   "source": [
    "print('dedpul mean:', res_pivot_acc['dedpul'].mean(),\n",
    "      '\\nbrier_nnre mean:', res_pivot_acc['brier_nnre'].mean(),\n",
    "      '\\nsigmoid_nnre mean:', res_pivot_acc['sigmoid_nnre'].mean(),\n",
    "      '\\nen mean:', res_pivot_acc['en'].mean()\n",
    "      )"
   ]
  },
  {
   "cell_type": "code",
   "execution_count": 55,
   "metadata": {},
   "outputs": [
    {
     "name": "stdout",
     "output_type": "stream",
     "text": [
      "accuracy\n"
     ]
    },
    {
     "data": {
      "text/plain": [
       "(WilcoxonResult(statistic=21461.0, pvalue=1.68345603470731e-23),\n",
       " WilcoxonResult(statistic=25873.0, pvalue=1.2635178082095275e-14),\n",
       " WilcoxonResult(statistic=4375.0, pvalue=9.513622262822845e-63))"
      ]
     },
     "execution_count": 55,
     "metadata": {},
     "output_type": "execute_result"
    }
   ],
   "source": [
    "print('accuracy')\n",
    "wilcoxon_n(res_pivot_acc['dedpul'].values, res_pivot_acc['sigmoid_nnre'].values), \\\n",
    "wilcoxon_n(res_pivot_acc['brier_nnre'].values, res_pivot_acc['dedpul'].values), \\\n",
    "wilcoxon_n(res_pivot_acc['dedpul'].values, res_pivot_acc['en'].values)"
   ]
  },
  {
   "cell_type": "markdown",
   "metadata": {},
   "source": [
    "dedpul outperforms nnre and en"
   ]
  },
  {
   "cell_type": "markdown",
   "metadata": {},
   "source": [
    "### Proposed modification of nnRE improves its performance on Positive-Unlabeled Classification"
   ]
  },
  {
   "cell_type": "code",
   "execution_count": 57,
   "metadata": {},
   "outputs": [
    {
     "name": "stdout",
     "output_type": "stream",
     "text": [
      "mae\n"
     ]
    },
    {
     "data": {
      "text/plain": [
       "WilcoxonResult(statistic=12923.0, pvalue=5.930000488931337e-21)"
      ]
     },
     "execution_count": 57,
     "metadata": {},
     "output_type": "execute_result"
    }
   ],
   "source": [
    "print('mae')\n",
    "wilcoxon_n(res_pivot_mae['brier_nnre'].values, res_pivot_mae['sigmoid_nnre'].values)"
   ]
  },
  {
   "cell_type": "code",
   "execution_count": 58,
   "metadata": {},
   "outputs": [
    {
     "name": "stdout",
     "output_type": "stream",
     "text": [
      "accuracy\n"
     ]
    },
    {
     "data": {
      "text/plain": [
       "WilcoxonResult(statistic=20647.0, pvalue=1.0191564741751708e-17)"
      ]
     },
     "execution_count": 58,
     "metadata": {},
     "output_type": "execute_result"
    }
   ],
   "source": [
    "print('accuracy')\n",
    "wilcoxon_n(res_pivot_acc['brier_nnre'].values, res_pivot_acc['sigmoid_nnre'].values)"
   ]
  },
  {
   "cell_type": "markdown",
   "metadata": {},
   "source": [
    "conclusion: brier_nnre outperforms sigmoid_nnre"
   ]
  }
 ],
 "metadata": {
  "kernelspec": {
   "display_name": "Python 3",
   "language": "python",
   "name": "python3"
  },
  "language_info": {
   "codemirror_mode": {
    "name": "ipython",
    "version": 3
   },
   "file_extension": ".py",
   "mimetype": "text/x-python",
   "name": "python",
   "nbconvert_exporter": "python",
   "pygments_lexer": "ipython3",
   "version": "3.6.5"
  }
 },
 "nbformat": 4,
 "nbformat_minor": 2
}
